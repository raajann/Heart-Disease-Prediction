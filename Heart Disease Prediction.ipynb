{
 "cells": [
  {
   "cell_type": "code",
   "execution_count": 1,
   "id": "5917e63d",
   "metadata": {},
   "outputs": [],
   "source": [
    "#Create seperate python file for class\n",
    "#Create this as python file (.py).\n",
    "\n",
    "#Third Party Libraries\n",
    "import pandas as pd\n",
    "import numpy as np\n",
    "import matplotlib.pyplot as plt\n",
    "import seaborn as sns\n",
    "from imblearn.over_sampling import RandomOverSampler\n",
    "from sklearn.utils import resample\n",
    "from sklearn.tree import DecisionTreeClassifier\n",
    "import xgboost as xgb\n",
    "from sklearn.ensemble import RandomForestClassifier\n",
    "from sklearn import metrics"
   ]
  },
  {
   "cell_type": "code",
   "execution_count": 2,
   "id": "21e3f757",
   "metadata": {},
   "outputs": [],
   "source": [
    "class modelling():\n",
    "    \n",
    "    #To read the data file\n",
    "    def __init__(self,data_location):\n",
    "        self.data=pd.read_csv(data_location)\n",
    "        print(\"Got the data! Start with the analysis and modelling work!\\n\")\n",
    "        \n",
    "    #To return the data    \n",
    "    def getData(self):\n",
    "        df= self.data\n",
    "        return df\n",
    "\n",
    "    #Check for nulls in each column\n",
    "    def checknull(self,df):\n",
    "        print(\"The number of null values in each column are:\")\n",
    "        print(df.isnull().sum())\n",
    "\n",
    "    #For Statistical Anlaysis of each column\n",
    "    def stats(self,df):\n",
    "        print(\"\\nStatistical Analysis of each column:\")\n",
    "        print(df.describe())\n",
    "\n",
    "    #To get the correlation matrix and see how each column is correlated with other columns\n",
    "    def corr_matrix(self,df):\n",
    "        print(\"\\nCorrelation Matrix:\")\n",
    "        corr_matrix=df.corr()\n",
    "        print(corr_matrix)\n",
    "        sns.heatmap(corr_matrix)\n",
    "        plt.show(block=False)\n",
    "        plt.pause(3)\n",
    "        plt.close()\n",
    "        \n",
    "    #To perform undersampling on unblanaced data    \n",
    "    def balancing_data(self,dataframe):\n",
    "\n",
    "        #To create randomly shuffled data instances during each run\n",
    "        shuffled_df= dataframe.sample(frac=1).reset_index()\n",
    "\n",
    "        #Seperate target values '0' & '1'\n",
    "        non_target_data = shuffled_df[shuffled_df.Target == 0]\n",
    "        target_data = shuffled_df[shuffled_df.Target == 1]\n",
    "\n",
    "        no_of_samples = round(non_target_data.shape[0] * 0.1)\n",
    "\n",
    "        #Reduce target value '0' rows to match target value '1' rows\n",
    "        non_target_data_new = resample(non_target_data, n_samples=no_of_samples, random_state=3)\n",
    "        target_model_data_after_balancing = pd.concat([non_target_data_new, target_data],axis=0)\n",
    "\n",
    "        #Creating X (feature set data columns) and Y (Target data column)\n",
    "        x_target_model_data_after_balancing = target_model_data_after_balancing.drop('Target', axis=1)\n",
    "        y_target_model_data_after_balancing = target_model_data_after_balancing.Target\n",
    "        y_target_model_data_after_balancing = y_target_model_data_after_balancing.astype(int)\n",
    "\n",
    "        ros = RandomOverSampler(random_state=44)\n",
    "\n",
    "        #Creating equal number of rows for each target value ('0' & '1') for balance\n",
    "        x,y = ros.fit_resample(x_target_model_data_after_balancing, y_target_model_data_after_balancing)\n",
    "\n",
    "        #Creating x and y dataframes\n",
    "        x=pd.DataFrame(data=x)\n",
    "        y=pd.DataFrame(data=y)\n",
    "        return x,y\n",
    "\n",
    "    #Manual train and test data split \n",
    "    def train_test_data_split(self,x,y):\n",
    "        x_train_len=round(0.85*len(x))\n",
    "        y_train_len=round(0.85*len(y))\n",
    "        x_train=x.iloc[0:x_train_len]\n",
    "        x_test=x.iloc[x_train_len:]\n",
    "        y_train=y.iloc[0:y_train_len]\n",
    "        y_train = np.ravel(y_train)\n",
    "        y_test=y.iloc[y_train_len:]\n",
    "        y_test = np.ravel(y_test)\n",
    "\n",
    "        return x_train, x_test, y_train, y_test\n",
    "    \n",
    "    #To get the accuracy, precision, recall,& f1 scores of each Machine Learning Model\n",
    "    def evaluation_metrics(self,test_y,pred_y):\n",
    "        accuracy_score=round(metrics.accuracy_score(test_y,pred_y),2)\n",
    "        precision_score = round(metrics.precision_score(test_y,pred_y),2)\n",
    "        recall_score = round(metrics.recall_score(test_y,pred_y),2)\n",
    "        f1_score = round(metrics.f1_score(test_y,pred_y),2)\n",
    "        \n",
    "        return accuracy_score, precision_score, recall_score, f1_score\n",
    "    \n",
    "    #To plot the confusion matrix\n",
    "    def plot_confusion_matrix(self,actual_y, pred_y, model_name):\n",
    "        cm = metrics.confusion_matrix(actual_y, pred_y)\n",
    "        plt.clf()\n",
    "        plt.imshow(cm, cmap='Pastel1')\n",
    "        TargetNames = ['No Heart Disease','Heart Disease']\n",
    "        plt.title(f'Confusion Matrix - {model_name}')\n",
    "        plt.ylabel('Actual Values')\n",
    "        plt.xlabel('Predicted Values')\n",
    "        ticks = [0,1]\n",
    "        plt.xticks(ticks, TargetNames, rotation=45)\n",
    "        plt.yticks(ticks, TargetNames)\n",
    "        s = [['TN','FP'], ['FN', 'TP']]\n",
    "\n",
    "        for i in range(2):\n",
    "            for j in range(2):\n",
    "                plt.text(j,i, str(s[i][j])+\" = \"+str(cm[i][j]),fontsize=10, ha=\"center\")\n",
    "        plt.show(block=False)\n",
    "        plt.pause(3)\n",
    "        plt.close()"
   ]
  },
  {
   "cell_type": "code",
   "execution_count": 3,
   "id": "977449da",
   "metadata": {},
   "outputs": [
    {
     "name": "stdout",
     "output_type": "stream",
     "text": [
      "Got the data! Start with the analysis and modelling work!\n",
      "\n"
     ]
    }
   ],
   "source": [
    "#Creating an object of the class modelling by passing data file location as argument\n",
    "data= modelling(r'heart_data.csv')"
   ]
  },
  {
   "cell_type": "code",
   "execution_count": 4,
   "id": "46c2224b",
   "metadata": {},
   "outputs": [],
   "source": [
    "#Returns the data in the form of dataframe\n",
    "df= data.getData()"
   ]
  },
  {
   "cell_type": "code",
   "execution_count": 5,
   "id": "c7c0ec99",
   "metadata": {},
   "outputs": [
    {
     "name": "stdout",
     "output_type": "stream",
     "text": [
      "The number of null values in each column are:\n",
      "HeartDiseaseorAttack    0\n",
      "HighBP                  0\n",
      "HighChol                0\n",
      "CholCheck               0\n",
      "BMI                     0\n",
      "Smoker                  0\n",
      "Stroke                  0\n",
      "Diabetes                0\n",
      "PhysActivity            0\n",
      "Fruits                  0\n",
      "Veggies                 0\n",
      "HvyAlcoholConsump       0\n",
      "AnyHealthcare           0\n",
      "NoDocbcCost             0\n",
      "GenHlth                 0\n",
      "MentHlth                0\n",
      "PhysHlth                0\n",
      "DiffWalk                0\n",
      "Sex                     0\n",
      "Age                     0\n",
      "Education               0\n",
      "Income                  0\n",
      "dtype: int64\n"
     ]
    }
   ],
   "source": [
    "#Check for nulls in each column\n",
    "data.checknull(df)"
   ]
  },
  {
   "cell_type": "code",
   "execution_count": 6,
   "id": "b5670a71",
   "metadata": {},
   "outputs": [
    {
     "name": "stdout",
     "output_type": "stream",
     "text": [
      "\n",
      "Statistical Analysis of each column:\n",
      "       HeartDiseaseorAttack         HighBP       HighChol      CholCheck  \\\n",
      "count         253680.000000  253680.000000  253680.000000  253680.000000   \n",
      "mean               0.094186       0.429001       0.424121       0.962670   \n",
      "std                0.292087       0.494934       0.494210       0.189571   \n",
      "min                0.000000       0.000000       0.000000       0.000000   \n",
      "25%                0.000000       0.000000       0.000000       1.000000   \n",
      "50%                0.000000       0.000000       0.000000       1.000000   \n",
      "75%                0.000000       1.000000       1.000000       1.000000   \n",
      "max                1.000000       1.000000       1.000000       1.000000   \n",
      "\n",
      "                 BMI         Smoker         Stroke       Diabetes  \\\n",
      "count  253680.000000  253680.000000  253680.000000  253680.000000   \n",
      "mean       28.382364       0.443169       0.040571       0.296921   \n",
      "std         6.608694       0.496761       0.197294       0.698160   \n",
      "min        12.000000       0.000000       0.000000       0.000000   \n",
      "25%        24.000000       0.000000       0.000000       0.000000   \n",
      "50%        27.000000       0.000000       0.000000       0.000000   \n",
      "75%        31.000000       1.000000       0.000000       0.000000   \n",
      "max        98.000000       1.000000       1.000000       2.000000   \n",
      "\n",
      "        PhysActivity         Fruits  ...  AnyHealthcare    NoDocbcCost  \\\n",
      "count  253680.000000  253680.000000  ...  253680.000000  253680.000000   \n",
      "mean        0.756544       0.634256  ...       0.951053       0.084177   \n",
      "std         0.429169       0.481639  ...       0.215759       0.277654   \n",
      "min         0.000000       0.000000  ...       0.000000       0.000000   \n",
      "25%         1.000000       0.000000  ...       1.000000       0.000000   \n",
      "50%         1.000000       1.000000  ...       1.000000       0.000000   \n",
      "75%         1.000000       1.000000  ...       1.000000       0.000000   \n",
      "max         1.000000       1.000000  ...       1.000000       1.000000   \n",
      "\n",
      "             GenHlth       MentHlth       PhysHlth       DiffWalk  \\\n",
      "count  253680.000000  253680.000000  253680.000000  253680.000000   \n",
      "mean        2.511392       3.184772       4.242081       0.168224   \n",
      "std         1.068477       7.412847       8.717951       0.374066   \n",
      "min         1.000000       0.000000       0.000000       0.000000   \n",
      "25%         2.000000       0.000000       0.000000       0.000000   \n",
      "50%         2.000000       0.000000       0.000000       0.000000   \n",
      "75%         3.000000       2.000000       3.000000       0.000000   \n",
      "max         5.000000      30.000000      30.000000       1.000000   \n",
      "\n",
      "                 Sex            Age      Education         Income  \n",
      "count  253680.000000  253680.000000  253680.000000  253680.000000  \n",
      "mean        0.440342       8.032119       5.050434       6.053875  \n",
      "std         0.496429       3.054220       0.985774       2.071148  \n",
      "min         0.000000       1.000000       1.000000       1.000000  \n",
      "25%         0.000000       6.000000       4.000000       5.000000  \n",
      "50%         0.000000       8.000000       5.000000       7.000000  \n",
      "75%         1.000000      10.000000       6.000000       8.000000  \n",
      "max         1.000000      13.000000       6.000000       8.000000  \n",
      "\n",
      "[8 rows x 22 columns]\n"
     ]
    }
   ],
   "source": [
    "#Perform statistical analysis on each column\n",
    "data.stats(df)"
   ]
  },
  {
   "cell_type": "code",
   "execution_count": 7,
   "id": "bc74e2c0",
   "metadata": {},
   "outputs": [],
   "source": [
    "#Change Column Names to names that are easily understandable\n",
    "df=df.rename(columns={\"HeartDiseaseorAttack\":\"Target\",\"HighBP\":\"High BP?\",\"HighChol\":\"High Cholesterol?\",\"CholCheck\":\"Cholesterol Checked?\",\"Smoker\":\"Smoker?\",\"Stroke\":\"Had Stroke?\",\"Diabetes\":\"Diabetes?\",\"PhysActivity\":\"Physical Activity?\",\"HvyAlcoholConsump\":\"Heavy Alcohol Consumption?\",\"AnyHealthcare\":\"Any Healthcare?\",\"NoDocbcCost\":\"Cannot Afford Doc?\",\"GenHlth\":\"General Health\",\"MentHlth\":\"Mental Health\",\"PhysHlth\":\"Physical Health\",\"DiffWalk\":\"Difficulty in Walking\"})\n",
    "x_columns=df.columns.tolist()"
   ]
  },
  {
   "cell_type": "code",
   "execution_count": 8,
   "id": "cc83755a",
   "metadata": {},
   "outputs": [],
   "source": [
    "#Creating X (feature set data columns) and Y (Target data column) on the raw unbalanced data\n",
    "x=df[x_columns[1:]]\n",
    "y=df[[x_columns[0]]]"
   ]
  },
  {
   "cell_type": "code",
   "execution_count": 9,
   "id": "14ab46ef",
   "metadata": {},
   "outputs": [
    {
     "name": "stdout",
     "output_type": "stream",
     "text": [
      "Target\n",
      "0.0       229787\n",
      "1.0        23893\n",
      "dtype: int64\n"
     ]
    }
   ],
   "source": [
    "#Checking the value count for each value in the Target column to observe if the data is balanced\n",
    "print(y.value_counts())"
   ]
  },
  {
   "cell_type": "code",
   "execution_count": 10,
   "id": "6c6ce4ad",
   "metadata": {},
   "outputs": [
    {
     "name": "stdout",
     "output_type": "stream",
     "text": [
      "\n",
      "Correlation Matrix:\n",
      "                              Target  High BP?  High Cholesterol?  \\\n",
      "Target                      1.000000  0.209361           0.180765   \n",
      "High BP?                    0.209361  1.000000           0.298199   \n",
      "High Cholesterol?           0.180765  0.298199           1.000000   \n",
      "Cholesterol Checked?        0.044206  0.098508           0.085642   \n",
      "BMI                         0.052904  0.213748           0.106722   \n",
      "Smoker?                     0.114441  0.096991           0.091299   \n",
      "Had Stroke?                 0.203002  0.129575           0.092620   \n",
      "Diabetes?                   0.180272  0.271596           0.209085   \n",
      "Physical Activity?         -0.087299 -0.125267          -0.078046   \n",
      "Fruits                     -0.019790 -0.040555          -0.040859   \n",
      "Veggies                    -0.039167 -0.061266          -0.039874   \n",
      "Heavy Alcohol Consumption? -0.028991 -0.003972          -0.011543   \n",
      "Any Healthcare?             0.018734  0.038425           0.042230   \n",
      "Cannot Afford Doc?          0.031000  0.017358           0.013310   \n",
      "General Health              0.258383  0.300530           0.208426   \n",
      "Mental Health               0.064621  0.056456           0.062069   \n",
      "Physical Health             0.181698  0.161212           0.121751   \n",
      "Difficulty in Walking       0.212709  0.223618           0.144672   \n",
      "Sex                         0.086096  0.052207           0.031205   \n",
      "Age                         0.221618  0.344452           0.272318   \n",
      "Education                  -0.099600 -0.141358          -0.070802   \n",
      "Income                     -0.141011 -0.171235          -0.085459   \n",
      "\n",
      "                            Cholesterol Checked?       BMI   Smoker?  \\\n",
      "Target                                  0.044206  0.052904  0.114441   \n",
      "High BP?                                0.098508  0.213748  0.096991   \n",
      "High Cholesterol?                       0.085642  0.106722  0.091299   \n",
      "Cholesterol Checked?                    1.000000  0.034495 -0.009929   \n",
      "BMI                                     0.034495  1.000000  0.013804   \n",
      "Smoker?                                -0.009929  0.013804  1.000000   \n",
      "Had Stroke?                             0.024158  0.020153  0.061173   \n",
      "Diabetes?                               0.067546  0.224379  0.062914   \n",
      "Physical Activity?                      0.004190 -0.147294 -0.087401   \n",
      "Fruits                                  0.023849 -0.087518 -0.077666   \n",
      "Veggies                                 0.006121 -0.062275 -0.030678   \n",
      "Heavy Alcohol Consumption?             -0.023730 -0.048736  0.101619   \n",
      "Any Healthcare?                         0.117626 -0.018471 -0.023251   \n",
      "Cannot Afford Doc?                     -0.058255  0.058206  0.048946   \n",
      "General Health                          0.046589  0.239185  0.163143   \n",
      "Mental Health                          -0.008366  0.085310  0.092196   \n",
      "Physical Health                         0.031775  0.121141  0.116460   \n",
      "Difficulty in Walking                   0.040585  0.197078  0.122463   \n",
      "Sex                                    -0.022115  0.042950  0.093662   \n",
      "Age                                     0.090321 -0.036618  0.120641   \n",
      "Education                               0.001510 -0.103932 -0.161955   \n",
      "Income                                  0.014259 -0.100069 -0.123937   \n",
      "\n",
      "                            Had Stroke?  Diabetes?  Physical Activity?  \\\n",
      "Target                         0.203002   0.180272           -0.087299   \n",
      "High BP?                       0.129575   0.271596           -0.125267   \n",
      "High Cholesterol?              0.092620   0.209085           -0.078046   \n",
      "Cholesterol Checked?           0.024158   0.067546            0.004190   \n",
      "BMI                            0.020153   0.224379           -0.147294   \n",
      "Smoker?                        0.061173   0.062914           -0.087401   \n",
      "Had Stroke?                    1.000000   0.107179           -0.069151   \n",
      "Diabetes?                      0.107179   1.000000           -0.121947   \n",
      "Physical Activity?            -0.069151  -0.121947            1.000000   \n",
      "Fruits                        -0.013389  -0.042192            0.142756   \n",
      "Veggies                       -0.041124  -0.058972            0.153150   \n",
      "Heavy Alcohol Consumption?    -0.016950  -0.057882            0.012392   \n",
      "Any Healthcare?                0.008776   0.015410            0.035505   \n",
      "Cannot Afford Doc?             0.034804   0.035436           -0.061638   \n",
      "General Health                 0.177942   0.302587           -0.266186   \n",
      "Mental Health                  0.070172   0.073507           -0.125587   \n",
      "Physical Health                0.148944   0.176287           -0.219230   \n",
      "Difficulty in Walking          0.176567   0.224239           -0.253174   \n",
      "Sex                            0.002978   0.031040            0.032482   \n",
      "Age                            0.126974   0.185026           -0.092511   \n",
      "Education                     -0.076009  -0.130517            0.199658   \n",
      "Income                        -0.128599  -0.171483            0.198539   \n",
      "\n",
      "                              Fruits  ...  Any Healthcare?  \\\n",
      "Target                     -0.019790  ...         0.018734   \n",
      "High BP?                   -0.040555  ...         0.038425   \n",
      "High Cholesterol?          -0.040859  ...         0.042230   \n",
      "Cholesterol Checked?        0.023849  ...         0.117626   \n",
      "BMI                        -0.087518  ...        -0.018471   \n",
      "Smoker?                    -0.077666  ...        -0.023251   \n",
      "Had Stroke?                -0.013389  ...         0.008776   \n",
      "Diabetes?                  -0.042192  ...         0.015410   \n",
      "Physical Activity?          0.142756  ...         0.035505   \n",
      "Fruits                      1.000000  ...         0.031544   \n",
      "Veggies                     0.254342  ...         0.029584   \n",
      "Heavy Alcohol Consumption? -0.035288  ...        -0.010488   \n",
      "Any Healthcare?             0.031544  ...         1.000000   \n",
      "Cannot Afford Doc?         -0.044243  ...        -0.232532   \n",
      "General Health             -0.103854  ...        -0.040817   \n",
      "Mental Health              -0.068217  ...        -0.052707   \n",
      "Physical Health            -0.044633  ...        -0.008276   \n",
      "Difficulty in Walking      -0.048352  ...         0.007074   \n",
      "Sex                        -0.091175  ...        -0.019405   \n",
      "Age                         0.064547  ...         0.138046   \n",
      "Education                   0.110187  ...         0.122514   \n",
      "Income                      0.079929  ...         0.157999   \n",
      "\n",
      "                            Cannot Afford Doc?  General Health  Mental Health  \\\n",
      "Target                                0.031000        0.258383       0.064621   \n",
      "High BP?                              0.017358        0.300530       0.056456   \n",
      "High Cholesterol?                     0.013310        0.208426       0.062069   \n",
      "Cholesterol Checked?                 -0.058255        0.046589      -0.008366   \n",
      "BMI                                   0.058206        0.239185       0.085310   \n",
      "Smoker?                               0.048946        0.163143       0.092196   \n",
      "Had Stroke?                           0.034804        0.177942       0.070172   \n",
      "Diabetes?                             0.035436        0.302587       0.073507   \n",
      "Physical Activity?                   -0.061638       -0.266186      -0.125587   \n",
      "Fruits                               -0.044243       -0.103854      -0.068217   \n",
      "Veggies                              -0.032232       -0.123066      -0.058884   \n",
      "Heavy Alcohol Consumption?            0.004684       -0.036724       0.024716   \n",
      "Any Healthcare?                      -0.232532       -0.040817      -0.052707   \n",
      "Cannot Afford Doc?                    1.000000        0.166397       0.192107   \n",
      "General Health                        0.166397        1.000000       0.301674   \n",
      "Mental Health                         0.192107        0.301674       1.000000   \n",
      "Physical Health                       0.148998        0.524364       0.353619   \n",
      "Difficulty in Walking                 0.118447        0.456920       0.233688   \n",
      "Sex                                  -0.044931       -0.006091      -0.080705   \n",
      "Age                                  -0.119777        0.152450      -0.092068   \n",
      "Education                            -0.100701       -0.284912      -0.101830   \n",
      "Income                               -0.203182       -0.370014      -0.209806   \n",
      "\n",
      "                            Physical Health  Difficulty in Walking       Sex  \\\n",
      "Target                             0.181698               0.212709  0.086096   \n",
      "High BP?                           0.161212               0.223618  0.052207   \n",
      "High Cholesterol?                  0.121751               0.144672  0.031205   \n",
      "Cholesterol Checked?               0.031775               0.040585 -0.022115   \n",
      "BMI                                0.121141               0.197078  0.042950   \n",
      "Smoker?                            0.116460               0.122463  0.093662   \n",
      "Had Stroke?                        0.148944               0.176567  0.002978   \n",
      "Diabetes?                          0.176287               0.224239  0.031040   \n",
      "Physical Activity?                -0.219230              -0.253174  0.032482   \n",
      "Fruits                            -0.044633              -0.048352 -0.091175   \n",
      "Veggies                           -0.064290              -0.080506 -0.064765   \n",
      "Heavy Alcohol Consumption?        -0.026415              -0.037668  0.005740   \n",
      "Any Healthcare?                   -0.008276               0.007074 -0.019405   \n",
      "Cannot Afford Doc?                 0.148998               0.118447 -0.044931   \n",
      "General Health                     0.524364               0.456920 -0.006091   \n",
      "Mental Health                      0.353619               0.233688 -0.080705   \n",
      "Physical Health                    1.000000               0.478417 -0.043137   \n",
      "Difficulty in Walking              0.478417               1.000000 -0.070299   \n",
      "Sex                               -0.043137              -0.070299  1.000000   \n",
      "Age                                0.099130               0.204450 -0.027340   \n",
      "Education                         -0.155093              -0.192642  0.019480   \n",
      "Income                            -0.266799              -0.320124  0.127141   \n",
      "\n",
      "                                 Age  Education    Income  \n",
      "Target                      0.221618  -0.099600 -0.141011  \n",
      "High BP?                    0.344452  -0.141358 -0.171235  \n",
      "High Cholesterol?           0.272318  -0.070802 -0.085459  \n",
      "Cholesterol Checked?        0.090321   0.001510  0.014259  \n",
      "BMI                        -0.036618  -0.103932 -0.100069  \n",
      "Smoker?                     0.120641  -0.161955 -0.123937  \n",
      "Had Stroke?                 0.126974  -0.076009 -0.128599  \n",
      "Diabetes?                   0.185026  -0.130517 -0.171483  \n",
      "Physical Activity?         -0.092511   0.199658  0.198539  \n",
      "Fruits                      0.064547   0.110187  0.079929  \n",
      "Veggies                    -0.009771   0.154329  0.151087  \n",
      "Heavy Alcohol Consumption? -0.034578   0.023997  0.053619  \n",
      "Any Healthcare?             0.138046   0.122514  0.157999  \n",
      "Cannot Afford Doc?         -0.119777  -0.100701 -0.203182  \n",
      "General Health              0.152450  -0.284912 -0.370014  \n",
      "Mental Health              -0.092068  -0.101830 -0.209806  \n",
      "Physical Health             0.099130  -0.155093 -0.266799  \n",
      "Difficulty in Walking       0.204450  -0.192642 -0.320124  \n",
      "Sex                        -0.027340   0.019480  0.127141  \n",
      "Age                         1.000000  -0.101901 -0.127775  \n",
      "Education                  -0.101901   1.000000  0.449106  \n",
      "Income                     -0.127775   0.449106  1.000000  \n",
      "\n",
      "[22 rows x 22 columns]\n"
     ]
    },
    {
     "data": {
      "image/png": "[encoded data removed]",
      "text/plain": [
       "<Figure size 432x288 with 2 Axes>"
      ]
     },
     "metadata": {
      "needs_background": "light"
     },
     "output_type": "display_data"
    }
   ],
   "source": [
    "#To get the correlation matrix and see how each column is correlated with other columns\n",
    "data.corr_matrix(df)"
   ]
  },
  {
   "cell_type": "code",
   "execution_count": 11,
   "id": "10dcfae3",
   "metadata": {},
   "outputs": [],
   "source": [
    "#Balance the data through undersampling\n",
    "x_new, y_new=data.balancing_data(df)"
   ]
  },
  {
   "cell_type": "code",
   "execution_count": 12,
   "id": "20ef334f",
   "metadata": {},
   "outputs": [
    {
     "name": "stdout",
     "output_type": "stream",
     "text": [
      "[0 0 0 ... 1 1 1]\n"
     ]
    }
   ],
   "source": [
    "#Creating train and test data for the balanced data manually\n",
    "x_train_b, x_test_b, y_train_b, y_test_b=data.train_test_data_split(x_new,y_new)\n",
    "print(y_train_b)"
   ]
  },
  {
   "cell_type": "code",
   "execution_count": 13,
   "id": "cfbe526d",
   "metadata": {},
   "outputs": [
    {
     "name": "stdout",
     "output_type": "stream",
     "text": [
      "[0. 0. 0. ... 0. 0. 0.]\n"
     ]
    }
   ],
   "source": [
    "#Creating train and test data for the unbalanced data manually\n",
    "x_train_in, x_test_in, y_train_in, y_test_in=data.train_test_data_split(x,y)\n",
    "print(y_train_in)"
   ]
  },
  {
   "cell_type": "code",
   "execution_count": 14,
   "id": "55dc974b",
   "metadata": {},
   "outputs": [],
   "source": [
    "#Decision Tree Model on Balanced Data\n",
    "dt = DecisionTreeClassifier().fit(x_train_b,y_train_b)\n",
    "y_hat1_b = dt.predict(x_test_b)"
   ]
  },
  {
   "cell_type": "code",
   "execution_count": 15,
   "id": "0bb0521c",
   "metadata": {},
   "outputs": [
    {
     "name": "stdout",
     "output_type": "stream",
     "text": [
      "\n",
      "The performance of the Decision Tree Model:\n",
      "{'Accuracy': 0.68, 'Precision': 1.0, 'Recall': 0.63, 'F-1 score': 0.77}\n"
     ]
    }
   ],
   "source": [
    "#Returns the evalution metrics and creates a dictionary\n",
    "accuracy_score_1, precision_score_1, recall_score_1, f1_score_1= data.evaluation_metrics(y_test_b,y_hat1_b)\n",
    "Decision_Tree_metric_scores= {'Accuracy': accuracy_score_1, 'Precision': precision_score_1,'Recall': recall_score_1, 'F-1 score': f1_score_1}\n",
    "print(\"\\nThe performance of the Decision Tree Model:\")\n",
    "print(Decision_Tree_metric_scores)"
   ]
  },
  {
   "cell_type": "code",
   "execution_count": 16,
   "id": "62d30c7e",
   "metadata": {},
   "outputs": [],
   "source": [
    "#XGBoost Model on Balanced Data\n",
    "xgb_cl = xgb.XGBClassifier().fit(x_train_b,y_train_b)\n",
    "y_hat2_b = xgb_cl.predict(x_test_b)"
   ]
  },
  {
   "cell_type": "code",
   "execution_count": 17,
   "id": "adb42f5f",
   "metadata": {},
   "outputs": [
    {
     "name": "stdout",
     "output_type": "stream",
     "text": [
      "\n",
      "The performance of the XGBoost Model:\n",
      "{'Accuracy': 0.75, 'Precision': 0.97, 'Recall': 0.74, 'F-1 score': 0.84}\n"
     ]
    }
   ],
   "source": [
    "#Returns the evalution metrics and creates a dictionary\n",
    "accuracy_score_2, precision_score_2, recall_score_2, f1_score_2= data.evaluation_metrics(y_test_b,y_hat2_b)\n",
    "XGBoost_metric_scores= {'Accuracy': accuracy_score_2, 'Precision': precision_score_2,'Recall': recall_score_2, 'F-1 score': f1_score_2}\n",
    "print(\"\\nThe performance of the XGBoost Model:\")\n",
    "print(XGBoost_metric_scores)"
   ]
  },
  {
   "cell_type": "code",
   "execution_count": 18,
   "id": "6ea4a661",
   "metadata": {},
   "outputs": [],
   "source": [
    "#Random Forest Classifier Model on Balanced Data\n",
    "rfc2 = RandomForestClassifier().fit(x_train_b, y_train_b)\n",
    "y_hat3_b = rfc2.predict(x_test_b)"
   ]
  },
  {
   "cell_type": "code",
   "execution_count": 19,
   "id": "58d683f6",
   "metadata": {},
   "outputs": [
    {
     "name": "stdout",
     "output_type": "stream",
     "text": [
      "\n",
      "The performance of the Random Forest Classifier Model (Balanced Data):\n",
      "{'Accuracy': 0.77, 'Precision': 1.0, 'Recall': 0.74, 'F-1 score': 0.85}\n"
     ]
    }
   ],
   "source": [
    "#Returns the evalution metrics and creates a dictionary\n",
    "accuracy_score_4, precision_score_4, recall_score_4, f1_score_4= data.evaluation_metrics(y_test_b,y_hat3_b)\n",
    "Random_Forest_metric_scores_2= {'Accuracy': accuracy_score_4, 'Precision': precision_score_4,'Recall': recall_score_4, 'F-1 score': f1_score_4}\n",
    "print(\"\\nThe performance of the Random Forest Classifier Model (Balanced Data):\")\n",
    "print(Random_Forest_metric_scores_2)"
   ]
  },
  {
   "cell_type": "code",
   "execution_count": 20,
   "id": "33da1512",
   "metadata": {},
   "outputs": [],
   "source": [
    "#Random Forest Classifier Model on Unbalanced Data\n",
    "rfc1 = RandomForestClassifier().fit(x_train_in, y_train_in)\n",
    "y_hat3_in = rfc1.predict(x_test_in)"
   ]
  },
  {
   "cell_type": "code",
   "execution_count": 21,
   "id": "e840270f",
   "metadata": {},
   "outputs": [
    {
     "name": "stdout",
     "output_type": "stream",
     "text": [
      "\n",
      "The performance of the Random Forest Classifier Model (Unbalanced Data):\n",
      "{'Accuracy': 0.91, 'Precision': 0.39, 'Recall': 0.1, 'F-1 score': 0.16}\n"
     ]
    }
   ],
   "source": [
    "#Returns the evalution metrics and creates a dictionary\n",
    "accuracy_score_3, precision_score_3, recall_score_3, f1_score_3= data.evaluation_metrics(y_test_in,y_hat3_in)\n",
    "Random_Forest_metric_scores_1= {'Accuracy': accuracy_score_3, 'Precision': precision_score_3,'Recall': recall_score_3, 'F-1 score': f1_score_3}\n",
    "print(\"\\nThe performance of the Random Forest Classifier Model (Unbalanced Data):\")\n",
    "print(Random_Forest_metric_scores_1)"
   ]
  },
  {
   "cell_type": "code",
   "execution_count": 22,
   "id": "56904f8d",
   "metadata": {},
   "outputs": [
    {
     "name": "stdout",
     "output_type": "stream",
     "text": [
      "\n",
      "Let us take a look at the confusion matrix of each model (Pop-ups will appear)\n"
     ]
    },
    {
     "data": {
      "image/png": "[encoded data removed]",
      "text/plain": [
       "<Figure size 432x288 with 1 Axes>"
      ]
     },
     "metadata": {
      "needs_background": "light"
     },
     "output_type": "display_data"
    },
    {
     "data": {
      "image/png": "[encoded data removed]",
      "text/plain": [
       "<Figure size 432x288 with 1 Axes>"
      ]
     },
     "metadata": {
      "needs_background": "light"
     },
     "output_type": "display_data"
    },
    {
     "data": {
      "image/png": "[encoded data removed]",
      "text/plain": [
       "<Figure size 432x288 with 1 Axes>"
      ]
     },
     "metadata": {
      "needs_background": "light"
     },
     "output_type": "display_data"
    },
    {
     "data": {
      "image/png": "[encoded data removed]",
      "text/plain": [
       "<Figure size 432x288 with 1 Axes>"
      ]
     },
     "metadata": {
      "needs_background": "light"
     },
     "output_type": "display_data"
    }
   ],
   "source": [
    "#Confusion Matrix Plot for all Machine Learning Models\n",
    "print(\"\\nLet us take a look at the confusion matrix of each model (Pop-ups will appear)\")\n",
    "\n",
    "data.plot_confusion_matrix(y_test_b, y_hat1_b, \"Decision Tree\")\n",
    "\n",
    "data.plot_confusion_matrix(y_test_b, y_hat2_b, \"XGBoost\")\n",
    "\n",
    "data.plot_confusion_matrix(y_test_b, y_hat3_b, \"Random Forest - Balanced Data\")\n",
    "\n",
    "data.plot_confusion_matrix(y_test_in, y_hat3_in, \"Random Forest - Unbalanced Data\")"
   ]
  },
  {
   "cell_type": "code",
   "execution_count": 23,
   "id": "08f2837d",
   "metadata": {},
   "outputs": [
    {
     "data": {
      "text/html": [
       "<div>\n",
       "<style scoped>\n",
       "    .dataframe tbody tr th:only-of-type {\n",
       "        vertical-align: middle;\n",
       "    }\n",
       "\n",
       "    .dataframe tbody tr th {\n",
       "        vertical-align: top;\n",
       "    }\n",
       "\n",
       "    .dataframe thead th {\n",
       "        text-align: right;\n",
       "    }\n",
       "</style>\n",
       "<table border=\"1\" class=\"dataframe\">\n",
       "  <thead>\n",
       "    <tr style=\"text-align: right;\">\n",
       "      <th></th>\n",
       "      <th>Accuracy</th>\n",
       "      <th>Precision</th>\n",
       "      <th>Recall</th>\n",
       "      <th>F-1 score</th>\n",
       "    </tr>\n",
       "  </thead>\n",
       "  <tbody>\n",
       "    <tr>\n",
       "      <th>Decision Tree</th>\n",
       "      <td>0.68</td>\n",
       "      <td>1.00</td>\n",
       "      <td>0.63</td>\n",
       "      <td>0.77</td>\n",
       "    </tr>\n",
       "    <tr>\n",
       "      <th>XGBoost</th>\n",
       "      <td>0.75</td>\n",
       "      <td>0.97</td>\n",
       "      <td>0.74</td>\n",
       "      <td>0.84</td>\n",
       "    </tr>\n",
       "    <tr>\n",
       "      <th>Random Forest Classifier</th>\n",
       "      <td>0.77</td>\n",
       "      <td>1.00</td>\n",
       "      <td>0.74</td>\n",
       "      <td>0.85</td>\n",
       "    </tr>\n",
       "  </tbody>\n",
       "</table>\n",
       "</div>"
      ],
      "text/plain": [
       "                          Accuracy  Precision  Recall  F-1 score\n",
       "Decision Tree                 0.68       1.00    0.63       0.77\n",
       "XGBoost                       0.75       0.97    0.74       0.84\n",
       "Random Forest Classifier      0.77       1.00    0.74       0.85"
      ]
     },
     "execution_count": 23,
     "metadata": {},
     "output_type": "execute_result"
    }
   ],
   "source": [
    "#Create a list of evalution metrics dictionaries and using it to create a dataframe\n",
    "list_of_dictionaries=[Decision_Tree_metric_scores, XGBoost_metric_scores, Random_Forest_metric_scores_2]\n",
    "evaluation_metric_df= pd.DataFrame(list_of_dictionaries, index=['Decision Tree', 'XGBoost', 'Random Forest Classifier'])\n",
    "evaluation_metric_df"
   ]
  },
  {
   "cell_type": "code",
   "execution_count": 24,
   "id": "1bbaecde",
   "metadata": {},
   "outputs": [
    {
     "name": "stdout",
     "output_type": "stream",
     "text": [
      "\n",
      "File with the performance of each model is ready and is output!\n"
     ]
    }
   ],
   "source": [
    "#Outputting a file, 'Evaluation_of_each_Model.txt' that contains the evaluation metrics dataframe\n",
    "print(\"\\nFile with the performance of each model is ready and is output!\")"
   ]
  },
  {
   "cell_type": "code",
   "execution_count": 25,
   "id": "c2cf3bb2",
   "metadata": {},
   "outputs": [],
   "source": [
    "with open(r'Evaluation_of_each_Model.txt', 'w') as f:\n",
    "    dfintoString = evaluation_metric_df.to_string()\n",
    "    f.write(dfintoString)\n",
    "    f.write(\"\\n\\nConsidering the F-1 score, the Random Forest Classifier is the best model at predicting heart diseases.\")\n",
    "    f.close()"
   ]
  },
  {
   "cell_type": "code",
   "execution_count": null,
   "id": "e9a885c9",
   "metadata": {},
   "outputs": [],
   "source": []
  }
 ],
 "metadata": {
  "kernelspec": {
   "display_name": "Python 3 (ipykernel)",
   "language": "python",
   "name": "python3"
  },
  "language_info": {
   "codemirror_mode": {
    "name": "ipython",
    "version": 3
   },
   "file_extension": ".py",
   "mimetype": "text/x-python",
   "name": "python",
   "nbconvert_exporter": "python",
   "pygments_lexer": "ipython3",
   "version": "3.9.12"
  }
 },
 "nbformat": 4,
 "nbformat_minor": 5
}
